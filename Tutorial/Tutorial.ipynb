{
 "cells": [
  {
   "cell_type": "code",
   "execution_count": 1,
   "id": "280757dd",
   "metadata": {},
   "outputs": [],
   "source": [
    "import MarsGT \n",
    "from MarsGT.conv import *\n",
    "from MarsGT.egrn import *\n",
    "from MarsGT.marsgt_model import *\n",
    "from MarsGT.utils import *\n",
    "import anndata as ad\n",
    "from collections import Counter\n",
    "import copy\n",
    "import dill\n",
    "from functools import partial\n",
    "import json\n",
    "import math\n",
    "import matplotlib.cm as cm\n",
    "import matplotlib.pyplot as plt\n",
    "import multiprocessing as mp\n",
    "import numpy as np\n",
    "import os\n",
    "import pandas as pd\n",
    "from operator import itemgetter\n",
    "import random\n",
    "import scipy.sparse as sp\n",
    "from scipy.io import mmread\n",
    "from scipy.sparse import hstack, vstack, coo_matrix\n",
    "import seaborn as sb\n",
    "from sklearn import metrics\n",
    "from sklearn.cluster import KMeans\n",
    "from sklearn.decomposition import IncrementalPCA\n",
    "from sklearn.decomposition import SparsePCA\n",
    "from sklearn.metrics import accuracy_score\n",
    "from sklearn.metrics.cluster import normalized_mutual_info_score\n",
    "import time\n",
    "import torch\n",
    "import torch.cuda as cuda\n",
    "from torch import nn\n",
    "from torch.autograd import Variable\n",
    "import torch.distributions as D\n",
    "import torch.nn.functional as F\n",
    "import torch_geometric.data as Data\n",
    "from torch_geometric.nn import GCNConv, GATConv\n",
    "from torch_geometric.nn.conv import MessagePassing\n",
    "from torch_geometric.nn.inits import glorot, uniform\n",
    "from torch_geometric.utils import softmax as Softmax\n",
    "from torchmetrics.functional import pairwise_cosine_similarity\n",
    "import warnings\n",
    "from warnings import filterwarnings\n",
    "import xlwt\n",
    "import argparse\n",
    "from tqdm import tqdm\n",
    "import scanpy as sc\n",
    "from scipy import sparse"
   ]
  },
  {
   "cell_type": "code",
   "execution_count": 2,
   "id": "f2c63815",
   "metadata": {},
   "outputs": [
    {
     "name": "stdout",
     "output_type": "stream",
     "text": [
      "Please verify with the official website whether you are using the latest version.\n",
      "You are using version : 0.1.8\n"
     ]
    }
   ],
   "source": [
    "import pkg_resources\n",
    "marsgt_version = pkg_resources.get_distribution(\"MarsGT\").version\n",
    "print('Please verify with the official website whether you are using the latest version.')\n",
    "print('You are using version :',marsgt_version)"
   ]
  },
  {
   "cell_type": "markdown",
   "id": "3a410815",
   "metadata": {},
   "source": [
    "## Initialize parameters"
   ]
  },
  {
   "cell_type": "code",
   "execution_count": 3,
   "id": "d25b833d",
   "metadata": {},
   "outputs": [],
   "source": [
    "filterwarnings(\"ignore\")\n",
    "seed = 0\n",
    "random.seed(seed)\n",
    "np.random.seed(seed)\n",
    "torch.manual_seed(seed)\n",
    "torch.cuda.manual_seed(seed)\n",
    "torch.cuda.manual_seed_all(seed)\n",
    "os.environ['PYTHONHASHSEED'] = str(seed)\n",
    "torch.backends.cudnn.deterministic = True\n",
    "torch.backends.cudnn.benchmark = False\n",
    "\n",
    "parser = argparse.ArgumentParser(description='Training GNN on gene cell graph')\n",
    "parser.add_argument('--fi', type=int, default=0) # This parameter is used for the benchmark to specify the starting sequence number of the created files\n",
    "parser.add_argument('--labsm', type=float, default=0.1) # The rate of LabelSmoothing\n",
    "parser.add_argument('--wd', type=float, default=0.1) # The 'weight_decay' parameter is used to specify the strength of L2 regularization\n",
    "parser.add_argument('--lr', type=float, default=0.0005) # learning rate\n",
    "parser.add_argument('--n_hid', type=int, default=104) # The number of layers should be a multiple of 'n_head' in order to make any modifications\n",
    "parser.add_argument('--nheads', type=int, default=8) # The 'heads' parameter represents the number of attention heads in the attention mechanism\n",
    "parser.add_argument('--nlayers', type=int, default=3) # The number of layers in network\n",
    "parser.add_argument('--cell_size', type=int, default=30) # The number of cells per subgraph (batch)\n",
    "parser.add_argument('--neighbor', type=int, default=20) # The number of neighboring nodes to be selected for each cell in the subgraph\n",
    "parser.add_argument('--egrn', type=bool, default=True) # Whether to output the Enhancer-Gene regulatory network\n",
    "parser.add_argument('--epochs', type=int, default=3) # The epoch number of NodeDimensionReduction\n",
    "parser.add_argument('--num_epochs', type=int, default=3) # The epoch number of MarsGT-Model\n",
    "parser.add_argument('--output_file', type=str, default='Z:\\mtduan\\HGT\\MarsGT\\Model_test\\Tutorial_example')\n",
    "args = parser.parse_args([])\n",
    "\n",
    "output_file = args.output_file\n",
    "fi=args.fi\n",
    "labsm = args.labsm\n",
    "lr = args.lr\n",
    "wd = args.wd\n",
    "n_hid = args.n_hid\n",
    "nheads = args.nheads\n",
    "nlayers = args.nlayers\n",
    "cell_size = args.cell_size\n",
    "neighbor = args.neighbor\n",
    "egrn = args.egrn\n",
    "epochs = args.epochs\n",
    "num_epochs = args.num_epochs"
   ]
  },
  {
   "cell_type": "markdown",
   "id": "eebae3a0",
   "metadata": {},
   "source": [
    "## Load the data"
   ]
  },
  {
   "cell_type": "code",
   "execution_count": 4,
   "id": "f2b62635",
   "metadata": {},
   "outputs": [],
   "source": [
    "ip_file = 'Z:\\mtduan\\HGT\\Tutorial_example\\Tutorial_example' # Please replace the actual path with the path to \"Tutorial_example\" file.\n",
    "gene_peak = sparse.load_npz(ip_file+'\\Gene_Peak_.npz')\n",
    "peak_cell = sparse.load_npz(ip_file+'\\ATAC.npz')  \n",
    "gene_cell = sparse.load_npz(ip_file+'\\RNA.npz')\n",
    "true_label = np.load(ip_file+'\\label500.npy',allow_pickle=True)\n",
    "gene_names = pd.DataFrame(np.load(ip_file+'\\gene_name.npy',allow_pickle=True))\n",
    "peak_names = pd.DataFrame(np.load(ip_file+'\\peak_name.npy',allow_pickle=True))\n",
    "\n",
    "peak_cell.obs_names = peak_names[0]\n",
    "gene_cell.obs_names = gene_names[0]\n",
    "gene_peak.obs_names = gene_names[0]\n",
    "gene_peak.var_names = peak_names[0]\n",
    "\n",
    "RNA_matrix = gene_cell\n",
    "ATAC_matrix = peak_cell\n",
    "RP_matrix = gene_peak\n",
    "Gene_Peak = gene_peak\n",
    "\n",
    "cell_num = RNA_matrix.shape[1]\n",
    "gene_num = RNA_matrix.shape[0]\n",
    "peak_num = ATAC_matrix.shape[0]"
   ]
  },
  {
   "cell_type": "markdown",
   "id": "c417dd66",
   "metadata": {},
   "source": [
    "## Run the main code containing MarsGT model"
   ]
  },
  {
   "cell_type": "code",
   "execution_count": null,
   "id": "f2cc4561",
   "metadata": {},
   "outputs": [
    {
     "name": "stdout",
     "output_type": "stream",
     "text": [
      "You will use :  cpu\n",
      "\tWhen the number of cells is less than or equal to 500, it is recommended to set the resolution value to 0.2.\n",
      "\tWhen the number of cells is within the range of 500 to 5000, the resolution value should be set to 0.5.\n",
      "\tWhen the number of cells is greater than 5000, the resolution value should be set to 0.8.\n",
      "WARNING: You’re trying to run this on 11819 dimensions of `.X`, if you really want this, set `use_rep='X'`.\n",
      "         Falling back to preprocessing with `sc.pp.pca` and default params.\n",
      "We are currently in the process of partitioning the data into batches. Kindly wait for a moment, please.\n"
     ]
    },
    {
     "name": "stderr",
     "output_type": "stream",
     "text": [
      "100%|██████████████████████████████████████████████████████████████████████████████████| 17/17 [00:06<00:00,  2.47it/s]\n"
     ]
    },
    {
     "name": "stdout",
     "output_type": "stream",
     "text": [
      "The training process for the NodeDimensionReduction model has started. Please wait.\n"
     ]
    },
    {
     "name": "stderr",
     "output_type": "stream",
     "text": [
      "100%|██████████████████████████████████████████████████████████████████████████████| 100/100 [1:31:46<00:00, 55.07s/it]\n"
     ]
    },
    {
     "name": "stdout",
     "output_type": "stream",
     "text": [
      "The training for the NodeDimensionReduction model has been completed.\n",
      "The training process for the MarsGT model has started. Please wait.\n"
     ]
    },
   ],
   "source": [
    "if __name__ == \"__main__\":\n",
    "    device = torch.device(\"cuda\" if cuda.is_available() else \"cpu\")\n",
    "    print('You will use : ',device)\n",
    "    # clustering result by scanpy\n",
    "    initial_pre = initial_clustering(RNA_matrix) \n",
    "    # number of every cluster\n",
    "    cluster_ini_num = len(set(initial_pre)) \n",
    "    ini_p1 = [int(i) for i in initial_pre] \n",
    "    # partite the data into batches\n",
    "    indices, Node_Ids, dic = batch_select_whole (RNA_matrix, ATAC_matrix, neighbor = [neighbor], cell_size=cell_size)\n",
    "    n_batch = len(indices)\n",
    "    \n",
    "    # Reduce the dimensionality of features for cell, gene, and peak data.\n",
    "    node_model = NodeDimensionReduction(RNA_matrix, ATAC_matrix, indices, ini_p1, n_hid=n_hid, n_heads=nheads, \n",
    "                                        n_layers=nlayers,labsm=labsm, lr=lr, wd=wd, device=device, num_types=3, num_relations=2, epochs=100)\n",
    "    gnn,cell_emb,gene_emb,peak_emb,h = node_model.train_model(n_batch=n_batch)\n",
    "\n",
    "    # Instantiate the MarsGT_model\n",
    "    MarsGT_model = MarsGT(gnn=gnn, h=h, labsm=labsm, n_hid=n_hid, n_batch=n_batch, device=device,lr=lr,wd=wd, num_epochs=100)\n",
    "    # Train the model\n",
    "    MarsGT_gnn = MarsGT_model.train_model(indices=indices,RNA_matrix=RNA_matrix, ATAC_matrix=ATAC_matrix, Gene_Peak=Gene_Peak, ini_p1=ini_p1)\n",
    "    # The result of MarsGT\n",
    "    MarsGT_result = MarsGT_pred(RNA_matrix, ATAC_matrix, RP_matrix, egrn=egrn, MarsGT_gnn=MarsGT_gnn, indices=indices, \n",
    "                        nodes_id=Node_Ids, cell_size=cell_size, device=device, gene_names=gene_names, peak_names=peak_names)\n",
    "    \n",
    "    # Save numpy arrays to files\n",
    "    np.save(output_file + \"/Node_Ids.npy\", Node_Ids)\n",
    "    np.save(output_file + \"/pred.npy\", MarsGT_result['pred_label'])\n",
    "    np.save(output_file + \"/cell_embedding.npy\", MarsGT_result['cell_embedding'])"
   ]
  },
  {
   "cell_type": "markdown",
   "id": "e4c858cd",
   "metadata": {},
   "source": [
    "## Simple exploration of the results"
   ]
  },
  {
   "cell_type": "code",
   "execution_count": 6,
   "id": "3e18204d",
   "metadata": {},
   "outputs": [
    {
     "name": "stdout",
     "output_type": "stream",
     "text": [
      "Counter({0: 280, 1: 210, 2: 7, 56: 1, 97: 1, 8: 1})\n"
     ]
    }
   ],
   "source": [
    "print(Counter(MarsGT_result['pred_label']))"
   ]
  },
  {
   "cell_type": "code",
   "execution_count": 9,
   "id": "b6e8ce65",
   "metadata": {},
   "outputs": [
    {
     "name": "stdout",
     "output_type": "stream",
     "text": [
      "['Plasma cell' 'Plasma cell' 'Plasma cell' 'Plasma cell' 'Plasma cell'\n",
      " 'Plasma cell' 'Plasma cell' 'Plasma cell' 'Plasma cell' 'Plasma cell']\n"
     ]
    }
   ],
   "source": [
    "## Among the 500 cells in this example, there are a total of 490 CD4+ T naive cells and Plasma cells. Now, we will sample from the rare class predicted as \"2\", and all the samples will be Plasma cells.\n",
    "print(true_label[Node_Ids][np.where(MarsGT_result['pred_label']==2)])"
   ]
  },
  {
   "cell_type": "markdown",
   "id": "321cf0a4",
   "metadata": {},
   "source": [
    "#### Evaluation of the clustering results"
   ]
  },
  {
   "cell_type": "code",
   "execution_count": 10,
   "id": "d74bebcb",
   "metadata": {},
   "outputs": [
    {
     "name": "stdout",
     "output_type": "stream",
     "text": [
      "purity:0.9800\n",
      "NMI:1.0000\n",
      "Entropy:0.0974\n"
     ]
    }
   ],
   "source": [
    "pred_label = MarsGT_result['pred_label']\n",
    "p_score ,labels = purity_score(np.array(true_label),pred_label)\n",
    "e = Entropy(np.array(pred_label,dtype='int64'),np.array(labels,dtype='int64'))\n",
    "print(\"purity:%.4f\"%p_score)\n",
    "print(\"NMI:%.4f\"%normalized_mutual_info_score(true_label,labels))\n",
    "print(\"Entropy:%.4f\"%e)"
   ]
  },
  {
   "cell_type": "markdown",
   "id": "38cd5ebe",
   "metadata": {},
   "source": [
    "#### Show the EGRN"
   ]
  },
  {
   "cell_type": "code",
   "execution_count": 11,
   "id": "274bf533",
   "metadata": {},
   "outputs": [
    {
     "data": {
      "text/html": [
       "<div>\n",
       "<style scoped>\n",
       "    .dataframe tbody tr th:only-of-type {\n",
       "        vertical-align: middle;\n",
       "    }\n",
       "\n",
       "    .dataframe tbody tr th {\n",
       "        vertical-align: top;\n",
       "    }\n",
       "\n",
       "    .dataframe thead th {\n",
       "        text-align: right;\n",
       "    }\n",
       "</style>\n",
       "<table border=\"1\" class=\"dataframe\">\n",
       "  <thead>\n",
       "    <tr style=\"text-align: right;\">\n",
       "      <th></th>\n",
       "      <th>gene</th>\n",
       "      <th>peak</th>\n",
       "      <th>score</th>\n",
       "      <th>class</th>\n",
       "    </tr>\n",
       "  </thead>\n",
       "  <tbody>\n",
       "    <tr>\n",
       "      <th>413084057</th>\n",
       "      <td>MALAT1</td>\n",
       "      <td>chr11-65497140-65498028</td>\n",
       "      <td>110.855689</td>\n",
       "      <td>0</td>\n",
       "    </tr>\n",
       "    <tr>\n",
       "      <th>607038746</th>\n",
       "      <td>RB1</td>\n",
       "      <td>chr13-48405658-48406465</td>\n",
       "      <td>16.926812</td>\n",
       "      <td>0</td>\n",
       "    </tr>\n",
       "    <tr>\n",
       "      <th>607038744</th>\n",
       "      <td>RB1</td>\n",
       "      <td>chr13-48400694-48401538</td>\n",
       "      <td>15.017956</td>\n",
       "      <td>0</td>\n",
       "    </tr>\n",
       "    <tr>\n",
       "      <th>219109683</th>\n",
       "      <td>EEF1A1</td>\n",
       "      <td>chr6-73520797-73521691</td>\n",
       "      <td>14.581852</td>\n",
       "      <td>0</td>\n",
       "    </tr>\n",
       "    <tr>\n",
       "      <th>607038747</th>\n",
       "      <td>RB1</td>\n",
       "      <td>chr13-48410002-48410807</td>\n",
       "      <td>14.295276</td>\n",
       "      <td>0</td>\n",
       "    </tr>\n",
       "    <tr>\n",
       "      <th>...</th>\n",
       "      <td>...</td>\n",
       "      <td>...</td>\n",
       "      <td>...</td>\n",
       "      <td>...</td>\n",
       "    </tr>\n",
       "    <tr>\n",
       "      <th>521825713</th>\n",
       "      <td>PARP12</td>\n",
       "      <td>chr7-140211990-140212772</td>\n",
       "      <td>0.0</td>\n",
       "      <td>2</td>\n",
       "    </tr>\n",
       "    <tr>\n",
       "      <th>595699433</th>\n",
       "      <td>RAB1B</td>\n",
       "      <td>chr11-66418130-66418621</td>\n",
       "      <td>0.0</td>\n",
       "      <td>2</td>\n",
       "    </tr>\n",
       "    <tr>\n",
       "      <th>92412937</th>\n",
       "      <td>C1orf50</td>\n",
       "      <td>chr1-42916969-42917432</td>\n",
       "      <td>0.0</td>\n",
       "      <td>2</td>\n",
       "    </tr>\n",
       "    <tr>\n",
       "      <th>784054780</th>\n",
       "      <td>TOMM22</td>\n",
       "      <td>chr22-38531542-38532455</td>\n",
       "      <td>0.0</td>\n",
       "      <td>2</td>\n",
       "    </tr>\n",
       "    <tr>\n",
       "      <th>653743343</th>\n",
       "      <td>SCAMP5</td>\n",
       "      <td>chr15-75145090-75146003</td>\n",
       "      <td>0.0</td>\n",
       "      <td>2</td>\n",
       "    </tr>\n",
       "  </tbody>\n",
       "</table>\n",
       "<p>353345 rows × 4 columns</p>\n",
       "</div>"
      ],
      "text/plain": [
       "              gene                      peak       score class\n",
       "413084057   MALAT1   chr11-65497140-65498028  110.855689     0\n",
       "607038746      RB1   chr13-48405658-48406465   16.926812     0\n",
       "607038744      RB1   chr13-48400694-48401538   15.017956     0\n",
       "219109683   EEF1A1    chr6-73520797-73521691   14.581852     0\n",
       "607038747      RB1   chr13-48410002-48410807   14.295276     0\n",
       "...            ...                       ...         ...   ...\n",
       "521825713   PARP12  chr7-140211990-140212772         0.0     2\n",
       "595699433    RAB1B   chr11-66418130-66418621         0.0     2\n",
       "92412937   C1orf50    chr1-42916969-42917432         0.0     2\n",
       "784054780   TOMM22   chr22-38531542-38532455         0.0     2\n",
       "653743343   SCAMP5   chr15-75145090-75146003         0.0     2\n",
       "\n",
       "[353345 rows x 4 columns]"
      ]
     },
     "execution_count": 11,
     "metadata": {},
     "output_type": "execute_result"
    }
   ],
   "source": [
    "MarsGT_result['egrn']"
   ]
  }
 ],
 "metadata": {
  "kernelspec": {
   "display_name": "marsgt_cpu",
   "language": "python",
   "name": "marsgt_cpu"
  },
  "language_info": {
   "codemirror_mode": {
    "name": "ipython",
    "version": 3
   },
   "file_extension": ".py",
   "mimetype": "text/x-python",
   "name": "python",
   "nbconvert_exporter": "python",
   "pygments_lexer": "ipython3",
   "version": "3.8.0"
  }
 },
 "nbformat": 4,
 "nbformat_minor": 5
}
